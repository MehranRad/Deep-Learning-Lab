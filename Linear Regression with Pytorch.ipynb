{
 "cells": [
  {
   "cell_type": "markdown",
   "id": "b12e4389",
   "metadata": {},
   "source": [
    "# 📄 Description\n",
    "This notebook implements Linear Regression from scratch using PyTorch.\n",
    "\n",
    "Workflow:\n",
    "1. Load and preprocess salary data  \n",
    "2. Visualize training data  \n",
    "3. Implement linear regression manually  \n",
    "4. Compute loss and gradients  \n",
    "5. Train using gradient descent  \n",
    "6. Test the model and visualize predictions  \n",
    "\n",
    "Dataset: Salary Data (Years of Experience vs Salary)  \n",
    "Source: https://github.com/ybifoundation/Dataset/raw/main/Salary%20Data.csv"
   ]
  },
  {
   "cell_type": "markdown",
   "id": "d3227da8",
   "metadata": {},
   "source": [
    "# 🟥 Data Loading and Initial Exploration"
   ]
  },
  {
   "cell_type": "code",
   "execution_count": 4,
   "id": "56fecda1",
   "metadata": {},
   "outputs": [
    {
     "data": {
      "text/html": [
       "<div>\n",
       "<style scoped>\n",
       "    .dataframe tbody tr th:only-of-type {\n",
       "        vertical-align: middle;\n",
       "    }\n",
       "\n",
       "    .dataframe tbody tr th {\n",
       "        vertical-align: top;\n",
       "    }\n",
       "\n",
       "    .dataframe thead th {\n",
       "        text-align: right;\n",
       "    }\n",
       "</style>\n",
       "<table border=\"1\" class=\"dataframe\">\n",
       "  <thead>\n",
       "    <tr style=\"text-align: right;\">\n",
       "      <th></th>\n",
       "      <th>Experience Years</th>\n",
       "      <th>Salary</th>\n",
       "    </tr>\n",
       "  </thead>\n",
       "  <tbody>\n",
       "    <tr>\n",
       "      <th>0</th>\n",
       "      <td>1.1</td>\n",
       "      <td>39343</td>\n",
       "    </tr>\n",
       "    <tr>\n",
       "      <th>1</th>\n",
       "      <td>1.2</td>\n",
       "      <td>42774</td>\n",
       "    </tr>\n",
       "    <tr>\n",
       "      <th>2</th>\n",
       "      <td>1.3</td>\n",
       "      <td>46205</td>\n",
       "    </tr>\n",
       "    <tr>\n",
       "      <th>3</th>\n",
       "      <td>1.5</td>\n",
       "      <td>37731</td>\n",
       "    </tr>\n",
       "    <tr>\n",
       "      <th>4</th>\n",
       "      <td>2.0</td>\n",
       "      <td>43525</td>\n",
       "    </tr>\n",
       "  </tbody>\n",
       "</table>\n",
       "</div>"
      ],
      "text/plain": [
       "   Experience Years  Salary\n",
       "0               1.1   39343\n",
       "1               1.2   42774\n",
       "2               1.3   46205\n",
       "3               1.5   37731\n",
       "4               2.0   43525"
      ]
     },
     "execution_count": 4,
     "metadata": {},
     "output_type": "execute_result"
    }
   ],
   "source": [
    "import torch\n",
    "import pandas as pd\n",
    "import numpy as np\n",
    "from sklearn.model_selection import train_test_split\n",
    "from sklearn.preprocessing import StandardScaler\n",
    "import matplotlib.pyplot as plt\n",
    "\n",
    "salary = pd.read_csv('https://github.com/ybifoundation/Dataset/raw/main/Salary%20Data.csv')\n",
    "salary.head()\n"
   ]
  },
  {
   "cell_type": "markdown",
   "id": "9594c72e",
   "metadata": {},
   "source": [
    "## 🟥 Split Data into Train & Test"
   ]
  },
  {
   "cell_type": "code",
   "execution_count": 5,
   "id": "a5054f39",
   "metadata": {},
   "outputs": [],
   "source": [
    "x = salary['Experience Years'].values\n",
    "y = salary['Salary'].values\n",
    "\n",
    "x_train, x_test, y_train, y_test = train_test_split(x, y, test_size=0.2)\n",
    "\n",
    "x_train = x_train.reshape(-1, 1)\n",
    "y_train = y_train.reshape(-1, 1)\n",
    "x_test = x_test.reshape(-1, 1)\n",
    "y_test = y_test.reshape(-1, 1)"
   ]
  },
  {
   "cell_type": "markdown",
   "id": "8379e418",
   "metadata": {},
   "source": [
    "## 🟥 Data Scaling"
   ]
  },
  {
   "cell_type": "code",
   "execution_count": 6,
   "id": "b66d434f",
   "metadata": {},
   "outputs": [],
   "source": [
    "x_scaler = StandardScaler()\n",
    "y_scaler = StandardScaler()\n",
    "\n",
    "x_train = x_scaler.fit_transform(x_train)\n",
    "y_train = y_scaler.fit_transform(y_train)\n",
    "\n",
    "x_test = x_scaler.transform(x_test)\n",
    "y_test = y_scaler.transform(y_test)"
   ]
  },
  {
   "cell_type": "markdown",
   "id": "bb44ef26",
   "metadata": {},
   "source": [
    "## 🟥 Visualize Training Data"
   ]
  },
  {
   "cell_type": "code",
   "execution_count": 7,
   "id": "cc07c48e",
   "metadata": {},
   "outputs": [
    {
     "data": {
      "image/png": "[encoded data removed]",
      "text/plain": [
       "<Figure size 640x480 with 1 Axes>"
      ]
     },
     "metadata": {},
     "output_type": "display_data"
    }
   ],
   "source": [
    "plt.scatter(x_train, y_train, s=100)\n",
    "plt.title(\"Training Data (Scaled)\")\n",
    "plt.xlabel(\"Experience (scaled)\")\n",
    "plt.ylabel(\"Salary (scaled)\")\n",
    "plt.show()"
   ]
  },
  {
   "cell_type": "markdown",
   "id": "d24adce9",
   "metadata": {},
   "source": [
    "## 🟥 Convert to Torch Tensors"
   ]
  },
  {
   "cell_type": "code",
   "execution_count": 8,
   "id": "a5305098",
   "metadata": {},
   "outputs": [],
   "source": [
    "x_train = torch.tensor(x_train, dtype=torch.float32)\n",
    "y_train = torch.tensor(y_train, dtype=torch.float32)\n",
    "x_test = torch.tensor(x_test, dtype=torch.float32)\n",
    "y_test = torch.tensor(y_test, dtype=torch.float32)"
   ]
  },
  {
   "cell_type": "markdown",
   "id": "095a40ad",
   "metadata": {},
   "source": [
    "## 🟥 Linear Regression Model"
   ]
  },
  {
   "cell_type": "code",
   "execution_count": 9,
   "id": "1b568a6c",
   "metadata": {},
   "outputs": [],
   "source": [
    "def linear_regression(x, theta0, theta1):\n",
    "    return theta1 * x + theta0"
   ]
  },
  {
   "cell_type": "markdown",
   "id": "db95b8b8",
   "metadata": {},
   "source": [
    "## 🟥 Mean Squared Error Loss"
   ]
  },
  {
   "cell_type": "code",
   "execution_count": 10,
   "id": "a58cc8e1",
   "metadata": {},
   "outputs": [],
   "source": [
    "def mse(y_hat, y):\n",
    "    return torch.mean((y_hat - y) ** 2)"
   ]
  },
  {
   "cell_type": "markdown",
   "id": "9b2a52ae",
   "metadata": {},
   "source": [
    "## 🟥 Gradient Calculation & Update"
   ]
  },
  {
   "cell_type": "code",
   "execution_count": 11,
   "id": "34e288b3",
   "metadata": {},
   "outputs": [],
   "source": [
    "def calc_gradient(x, y, y_hat):\n",
    "    error = y_hat - y\n",
    "    grad_theta0 = 2 * torch.mean(error)\n",
    "    grad_theta1 = 2 * torch.mean(x * error)\n",
    "    return grad_theta0, grad_theta1\n",
    "\n",
    "def update(theta0, theta1, eta, grad_theta0, grad_theta1):\n",
    "    theta0 -= eta * grad_theta0\n",
    "    theta1 -= eta * grad_theta1\n",
    "    return theta0, theta1"
   ]
  },
  {
   "cell_type": "markdown",
   "id": "4bedf8af",
   "metadata": {},
   "source": [
    "## 🟥 Training Loop (Gradient Descent)"
   ]
  },
  {
   "cell_type": "code",
   "execution_count": 12,
   "id": "39f20b4a",
   "metadata": {},
   "outputs": [
    {
     "name": "stdout",
     "output_type": "stream",
     "text": [
      "Iter 0/100 | Loss: 0.8908 | th0: -0.48 | th1: 0.40\n",
      "Iter 10/100 | Loss: 0.0601 | th0: -0.07 | th1: 0.90\n",
      "Iter 20/100 | Loss: 0.0444 | th0: -0.01 | th1: 0.97\n",
      "Iter 30/100 | Loss: 0.0441 | th0: -0.00 | th1: 0.98\n",
      "Iter 40/100 | Loss: 0.0441 | th0: -0.00 | th1: 0.98\n",
      "Iter 50/100 | Loss: 0.0441 | th0: -0.00 | th1: 0.98\n",
      "Iter 60/100 | Loss: 0.0441 | th0: -0.00 | th1: 0.98\n",
      "Iter 70/100 | Loss: 0.0441 | th0: -0.00 | th1: 0.98\n",
      "Iter 80/100 | Loss: 0.0441 | th0: -0.00 | th1: 0.98\n",
      "Iter 90/100 | Loss: 0.0441 | th0: -0.00 | th1: 0.98\n"
     ]
    }
   ],
   "source": [
    "theta0 = torch.randn(1)\n",
    "theta1 = torch.randn(1)\n",
    "\n",
    "eta = 0.09\n",
    "n = 100\n",
    "\n",
    "for iter in range(n):\n",
    "    y_hat = linear_regression(x_train, theta0, theta1)\n",
    "    loss = mse(y_hat, y_train)\n",
    "    grad_theta0, grad_theta1 = calc_gradient(x_train, y_train, y_hat)\n",
    "    theta0, theta1 = update(theta0, theta1, eta, grad_theta0, grad_theta1)\n",
    "\n",
    "    if iter % 10 == 0:\n",
    "        print(f\"Iter {iter}/{n} | Loss: {loss.item():.4f} | th0: {theta0.item():.2f} | th1: {theta1.item():.2f}\")"
   ]
  },
  {
   "cell_type": "markdown",
   "id": "4df90d92",
   "metadata": {},
   "source": [
    "## 🟥 Test the Model"
   ]
  },
  {
   "cell_type": "code",
   "execution_count": 20,
   "id": "9f27fcf6",
   "metadata": {},
   "outputs": [
    {
     "name": "stdout",
     "output_type": "stream",
     "text": [
      "Test MSE: 3.38%\n"
     ]
    }
   ],
   "source": [
    "y_hat_test = linear_regression(x_test, theta0, theta1)\n",
    "test_loss = mse(y_hat_test, y_test)\n",
    "print(f'Test MSE: {test_loss.item() * 100:.2f}%')"
   ]
  },
  {
   "cell_type": "markdown",
   "id": "68cb1610",
   "metadata": {},
   "source": [
    "## 🟥 Visualize Predictions on Test Data"
   ]
  },
  {
   "cell_type": "code",
   "execution_count": 14,
   "id": "5edbaef0",
   "metadata": {},
   "outputs": [
    {
     "data": {
      "image/png": "[encoded data removed]",
      "text/plain": [
       "<Figure size 640x480 with 1 Axes>"
      ]
     },
     "metadata": {},
     "output_type": "display_data"
    }
   ],
   "source": [
    "x_test_inv = x_scaler.inverse_transform(x_test.detach().numpy())\n",
    "y_test_inv = y_scaler.inverse_transform(y_test.detach().numpy())\n",
    "y_hat_test_inv = y_scaler.inverse_transform(y_hat_test.detach().numpy())\n",
    "\n",
    "plt.scatter(x_test_inv, y_test_inv, color=\"blue\", label=\"Actual test data\")\n",
    "sorted_idx = np.argsort(x_test_inv[:, 0])\n",
    "plt.plot(x_test_inv[sorted_idx], y_hat_test_inv[sorted_idx], color=\"red\", label=\"Predicted line\")\n",
    "plt.xlabel(\"Experience Years\")\n",
    "plt.ylabel(\"Salary\")\n",
    "plt.legend()\n",
    "plt.show()"
   ]
  }
 ],
 "metadata": {
  "kernelspec": {
   "display_name": "base",
   "language": "python",
   "name": "python3"
  },
  "language_info": {
   "codemirror_mode": {
    "name": "ipython",
    "version": 3
   },
   "file_extension": ".py",
   "mimetype": "text/x-python",
   "name": "python",
   "nbconvert_exporter": "python",
   "pygments_lexer": "ipython3",
   "version": "3.12.4"
  }
 },
 "nbformat": 4,
 "nbformat_minor": 5
}
